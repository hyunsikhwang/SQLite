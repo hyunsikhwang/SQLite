{
 "cells": [
  {
   "cell_type": "code",
   "execution_count": null,
   "metadata": {
    "collapsed": false
   },
   "outputs": [],
   "source": [
    "import sqlite3\n",
    "\n",
    "# SQLite DB 연결\n",
    "conn = sqlite3.connect(\"C:\\\\Users\\\\hyunsik.hwang.ROOT_MILLIMAN\\\\Downloads\\\\SQLiteStudio\\\\test\")\n",
    " \n",
    "# Connection 으로부터 Cursor 생성\n",
    "cur = conn.cursor()\n",
    " \n",
    "# SQL 쿼리 실행\n",
    "cur.execute(\"select * from tbasb8001\")\n",
    " \n",
    "# 데이타 Fetch\n",
    "rows = cur.fetchall()\n",
    "for row in rows:\n",
    "    print(row)\n",
    " \n",
    "# Connection 닫기\n",
    "conn.close()"
   ]
  },
  {
   "cell_type": "code",
   "execution_count": null,
   "metadata": {
    "collapsed": false
   },
   "outputs": [],
   "source": [
    "import sqlite3, os\n",
    "\n",
    "in_memory = sqlite3.connect(':memory:')\n",
    "c = in_memory.cursor()\n",
    "c.execute(\"CREATE TABLE temp (PLICD TEXT NOT NULL)\")\n",
    "c.execute(\"insert into temp values ('10000')\")\n",
    "c.execute('select * from temp')\n",
    "result = c.fetchall()\n",
    "print(result)\n",
    "in_memory.commit()\n",
    "\n",
    "#con = sqlite3.connect('C:\\\\Users\\\\hyunsik.hwang.ROOT_MILLIMAN\\\\Downloads\\\\SQLiteStudio\\\\test\"')\n",
    "#con.execute('drop table stocks')\n",
    "#for line in in_memory.iterdump():\n",
    "#    con.execute(line)"
   ]
  },
  {
   "cell_type": "code",
   "execution_count": 24,
   "metadata": {
    "collapsed": false
   },
   "outputs": [
    {
     "name": "stdout",
     "output_type": "stream",
     "text": [
      "('10000',)\n",
      "--- 1.2660033702850342 seconds ---\n"
     ]
    }
   ],
   "source": [
    "import time\n",
    "import sqlite3\n",
    "\n",
    "start_time = time.time()\n",
    "\n",
    "new_db = sqlite3.connect(':memory:') # create a memory database\n",
    "\n",
    "old_db = sqlite3.connect('C:\\\\Users\\\\hyunsik.hwang.ROOT_MILLIMAN\\\\Downloads\\\\SQLiteStudio\\\\test')\n",
    "\n",
    "query = \"\".join(line for line in old_db.iterdump())\n",
    "\n",
    "name_table = \"tbasb8001\"  # name of the table that you want to get.\n",
    "\n",
    "for line in old_db.iterdump():\n",
    "    if name_table in line:\n",
    "        query = line\n",
    "        break\n",
    "\n",
    "# Dump old database in the new one. \n",
    "new_db.executescript(query)\n",
    "\n",
    "c = new_db.cursor()\n",
    "\n",
    "c.execute('select plicd from tbasb8001')\n",
    "result = c.fetchone()\n",
    "print(result)\n",
    "print(\"--- %s seconds ---\" % (time.time() - start_time))\n"
   ]
  }
 ],
 "metadata": {
  "anaconda-cloud": {},
  "kernelspec": {
   "display_name": "Python [default]",
   "language": "python",
   "name": "python3"
  },
  "language_info": {
   "codemirror_mode": {
    "name": "ipython",
    "version": 3
   },
   "file_extension": ".py",
   "mimetype": "text/x-python",
   "name": "python",
   "nbconvert_exporter": "python",
   "pygments_lexer": "ipython3",
   "version": "3.5.2"
  }
 },
 "nbformat": 4,
 "nbformat_minor": 1
}
