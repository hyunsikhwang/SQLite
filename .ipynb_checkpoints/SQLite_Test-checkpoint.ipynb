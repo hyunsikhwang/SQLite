{
 "cells": [
  {
   "cell_type": "code",
   "execution_count": null,
   "metadata": {
    "collapsed": false
   },
   "outputs": [],
   "source": [
    "import sqlite3\n",
    "\n",
    "# SQLite DB 연결\n",
    "conn = sqlite3.connect(\"C:\\\\Users\\\\hyunsik.hwang.ROOT_MILLIMAN\\\\Downloads\\\\SQLiteStudio\\\\test\")\n",
    " \n",
    "# Connection 으로부터 Cursor 생성\n",
    "cur = conn.cursor()\n",
    " \n",
    "# SQL 쿼리 실행\n",
    "cur.execute(\"select * from tbasb8001\")\n",
    " \n",
    "# 데이타 Fetch\n",
    "rows = cur.fetchall()\n",
    "for row in rows:\n",
    "    print(row)\n",
    " \n",
    "# Connection 닫기\n",
    "conn.close()"
   ]
  },
  {
   "cell_type": "code",
   "execution_count": null,
   "metadata": {
    "collapsed": false
   },
   "outputs": [],
   "source": [
    "import sqlite3, os\n",
    "\n",
    "in_memory = sqlite3.connect(':memory:')\n",
    "c = in_memory.cursor()\n",
    "c.execute(\"CREATE TABLE temp (PLICD TEXT NOT NULL)\")\n",
    "c.execute(\"insert into temp values ('10000')\")\n",
    "c.execute('select * from temp')\n",
    "result = c.fetchall()\n",
    "print(result)\n",
    "in_memory.commit()\n",
    "\n",
    "#con = sqlite3.connect('C:\\\\Users\\\\hyunsik.hwang.ROOT_MILLIMAN\\\\Downloads\\\\SQLiteStudio\\\\test\"')\n",
    "#con.execute('drop table stocks')\n",
    "#for line in in_memory.iterdump():\n",
    "#    con.execute(line)"
   ]
  },
  {
   "cell_type": "code",
   "execution_count": null,
   "metadata": {
    "collapsed": false
   },
   "outputs": [],
   "source": [
    "import time\n",
    "import sqlite3\n",
    "\n",
    "new_db = sqlite3.connect(':memory:') # create a memory database\n",
    "\n",
    "old_db = sqlite3.connect('C:\\\\Users\\\\hyunsik.hwang.ROOT_MILLIMAN\\\\Downloads\\\\SQLiteStudio\\\\test')\n",
    "\n",
    "query = \"\".join(line for line in old_db.iterdump())\n",
    "\n",
    "name_table = \"test.tbasb8001\"  # name of the table that you want to get.\n",
    "\n",
    "for line in old_db.iterdump():\n",
    "    if name_table in line:\n",
    "        query = line\n",
    "        break\n",
    "\n",
    "# Dump old database in the new one. \n",
    "new_db.executescript(query)\n",
    "\n",
    "c = new_db.cursor()\n",
    "#c.execute('PRAGMA JOURNAL_MODE = NONE;')\n",
    "#d.execute('PRAGMA SYNCHRONOUS = off;')\n",
    "start_time = time.time()\n",
    "\n",
    "#c.execute('create index idx1 on tbasb8001(plicd)')\n",
    "\n",
    "for i in range(0,10000,1):\n",
    "    c.execute('select VLD_OPDT from tbasb8001 where plicd=\"z5688\";')\n",
    "    #c.execute('select VLD_OPDT from tbasb8001;')\n",
    "    result = c.fetchone()\n",
    "    #print(\"Memory : \", result)\n",
    "\n",
    "print(\"In-Memory Run-time : %s seconds\" % (time.time() - start_time))\n",
    "\n",
    "c.close()\n",
    "\n",
    "d = old_db.cursor()\n",
    "\n",
    "start_time = time.time()\n",
    "\n",
    "#d.execute('create index idx2 on tbasb8001(plicd)')\n",
    "\n",
    "for i in range(0,10000,1):\n",
    "    d.execute('select VLD_OPDT from tbasb8001 where plicd=\"z5688\";')\n",
    "    #d.execute('select VLD_OPDT from tbasb8001;')\n",
    "    result = d.fetchone()\n",
    "    #print(\"Disk : \", result)\n",
    "\n",
    "print(\"File Run-time : %s seconds\" % (time.time() - start_time))\n",
    "\n",
    "d.close()\n",
    "\n",
    "\n",
    "#여기서부터는 DLL 과 같은 구조 테스트\n",
    "start_time = time.time()\n",
    "\n",
    "for i in range(0,1000,1):\n",
    "    old_db = sqlite3.connect('C:\\\\Users\\\\hyunsik.hwang.ROOT_MILLIMAN\\\\Downloads\\\\SQLiteStudio\\\\test')\n",
    "    e = old_db.cursor()\n",
    "    e.execute('select VLD_OPDT from tbasb8001 where plicd=\"z5688\";')\n",
    "    result = e.fetchone()\n",
    "    e.close()\n",
    "\n",
    "print(\"File(DLL like) Run-time : %s seconds\" % (time.time() - start_time))\n",
    "\n"
   ]
  },
  {
   "cell_type": "code",
   "execution_count": null,
   "metadata": {
    "collapsed": false
   },
   "outputs": [],
   "source": [
    "import time\n",
    "import pyodbc\n",
    "\n",
    "start_time = time.time()\n",
    "\n",
    "#connection_string = \"Driver={Oracle in XE}; CONNECTSTRING=(DESCRIPTION={OracleXE}(ADDRESS=(PROTOCOL=TCP)(HOST=127.0.0.1))(CONNECT_DATA=(SID=hr)(SERVER=POOLED))); uid=hr; pwd=hr\"\n",
    "connection_string= \"DRIVER=SQLite3 ODBC Driver;Database=C:\\\\Users\\\\hyunsik.hwang.ROOT_MILLIMAN\\\\Downloads\\\\SQLiteStudio\\\\Test;\"\n",
    "#connection_string = \"DRIVER={MySQL ODBC 5.3 Unicode Driver};SERVER=127.0.0.1;DATABASE=test;UID=hr;PWD=qwert123$;\"\n",
    "\n",
    "connection= pyodbc.connect(connection_string)\n",
    "cursor = connection.cursor()\n",
    "\n",
    "for i in range(0,10000,1):\n",
    "    select_string= \"SELECT plicd FROM tbasb8001 where plicd = 'z5688'\"\n",
    "    cursor.execute(select_string)\n",
    "\n",
    "    while True:\n",
    "        row = cursor.fetchone()\n",
    "        if not row:\n",
    "            break\n",
    "        #print(row)\n",
    "\n",
    "connection.close()\n",
    "\n",
    "print(\"Run-time : %s seconds\" % (time.time() - start_time))\n"
   ]
  }
 ],
 "metadata": {
  "anaconda-cloud": {},
  "kernelspec": {
   "display_name": "Python [default]",
   "language": "python",
   "name": "python3"
  },
  "language_info": {
   "codemirror_mode": {
    "name": "ipython",
    "version": 3
   },
   "file_extension": ".py",
   "mimetype": "text/x-python",
   "name": "python",
   "nbconvert_exporter": "python",
   "pygments_lexer": "ipython3",
   "version": "3.5.2"
  }
 },
 "nbformat": 4,
 "nbformat_minor": 1
}
